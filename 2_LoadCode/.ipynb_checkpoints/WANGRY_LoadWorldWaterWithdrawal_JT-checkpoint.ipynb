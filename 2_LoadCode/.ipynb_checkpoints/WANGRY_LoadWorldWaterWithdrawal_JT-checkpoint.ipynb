{
 "cells": [
  {
   "cell_type": "code",
   "execution_count": 1,
   "metadata": {},
   "outputs": [
    {
     "data": {
      "text/html": [
       "<div>\n",
       "<style scoped>\n",
       "    .dataframe tbody tr th:only-of-type {\n",
       "        vertical-align: middle;\n",
       "    }\n",
       "\n",
       "    .dataframe tbody tr th {\n",
       "        vertical-align: top;\n",
       "    }\n",
       "\n",
       "    .dataframe thead th {\n",
       "        text-align: right;\n",
       "    }\n",
       "</style>\n",
       "<table border=\"1\" class=\"dataframe\">\n",
       "  <thead>\n",
       "    <tr style=\"text-align: right;\">\n",
       "      <th></th>\n",
       "      <th>Entity</th>\n",
       "      <th>Code</th>\n",
       "      <th>Year</th>\n",
       "      <th>Total water withdrawal per capita (m³ per person per year)</th>\n",
       "    </tr>\n",
       "  </thead>\n",
       "  <tbody>\n",
       "    <tr>\n",
       "      <th>0</th>\n",
       "      <td>Afghanistan</td>\n",
       "      <td>AFG</td>\n",
       "      <td>1975</td>\n",
       "      <td>819.5</td>\n",
       "    </tr>\n",
       "    <tr>\n",
       "      <th>1</th>\n",
       "      <td>Afghanistan</td>\n",
       "      <td>AFG</td>\n",
       "      <td>1985</td>\n",
       "      <td>2303.0</td>\n",
       "    </tr>\n",
       "    <tr>\n",
       "      <th>2</th>\n",
       "      <td>Afghanistan</td>\n",
       "      <td>AFG</td>\n",
       "      <td>2000</td>\n",
       "      <td>943.8</td>\n",
       "    </tr>\n",
       "    <tr>\n",
       "      <th>3</th>\n",
       "      <td>Albania</td>\n",
       "      <td>ALB</td>\n",
       "      <td>1990</td>\n",
       "      <td>370.3</td>\n",
       "    </tr>\n",
       "    <tr>\n",
       "      <th>4</th>\n",
       "      <td>Albania</td>\n",
       "      <td>ALB</td>\n",
       "      <td>2000</td>\n",
       "      <td>588.5</td>\n",
       "    </tr>\n",
       "  </tbody>\n",
       "</table>\n",
       "</div>"
      ],
      "text/plain": [
       "        Entity Code  Year  \\\n",
       "0  Afghanistan  AFG  1975   \n",
       "1  Afghanistan  AFG  1985   \n",
       "2  Afghanistan  AFG  2000   \n",
       "3      Albania  ALB  1990   \n",
       "4      Albania  ALB  2000   \n",
       "\n",
       "   Total water withdrawal per capita (m³ per person per year)  \n",
       "0                                              819.5           \n",
       "1                                             2303.0           \n",
       "2                                              943.8           \n",
       "3                                              370.3           \n",
       "4                                              588.5           "
      ]
     },
     "execution_count": 1,
     "metadata": {},
     "output_type": "execute_result"
    }
   ],
   "source": [
    "%matplotlib inline\n",
    "import matplotlib.pyplot as plt\n",
    "import pandas as pd\n",
    "import numpy as np\n",
    "import re\n",
    "\n",
    "# Hide warning messages in notebook\n",
    "import warnings\n",
    "warnings.filterwarnings('ignore')\n",
    "\n",
    "\n",
    "# File to Load\n",
    "H2ODataFile = \"../1_Input/water-withdrawals-per-capita.csv\"\n",
    "\n",
    "# Load to dataframe\n",
    "H2O_World_Withdrawal_data = pd.read_csv(H2ODataFile)\n",
    "\n",
    "# Simplify column headers\n",
    "H2O_World_Withdrawal_data.head()"
   ]
  },
  {
   "cell_type": "code",
   "execution_count": null,
   "metadata": {},
   "outputs": [],
   "source": [
    "\n",
    "\n",
    "w1 = H2O_World_Withdrawal_data.groupby([\"Entity\"])\n",
    "\n",
    "conflictCount_mean = pd.DataFrame(c1[\"Total water withdrawal per capita (m³ per person per year)\"].mean())\n",
    "conflictDeath_max = pd.DataFrame(c1[\"Best Death Estimate\"].max())\n",
    "\n",
    "conflictCount_mean.head()"
   ]
  }
 ],
 "metadata": {
  "kernelspec": {
   "display_name": "Python 3",
   "language": "python",
   "name": "python3"
  },
  "language_info": {
   "codemirror_mode": {
    "name": "ipython",
    "version": 3
   },
   "file_extension": ".py",
   "mimetype": "text/x-python",
   "name": "python",
   "nbconvert_exporter": "python",
   "pygments_lexer": "ipython3",
   "version": "3.7.0"
  }
 },
 "nbformat": 4,
 "nbformat_minor": 2
}
