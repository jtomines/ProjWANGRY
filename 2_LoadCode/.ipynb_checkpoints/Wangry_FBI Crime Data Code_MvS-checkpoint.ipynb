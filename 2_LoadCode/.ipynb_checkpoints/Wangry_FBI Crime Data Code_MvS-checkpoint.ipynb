{
 "cells": [
  {
   "cell_type": "code",
   "execution_count": 4,
   "metadata": {},
   "outputs": [],
   "source": [
    "# Dependencies\n",
    "import numpy as np\n",
    "import pandas as pd\n",
    "import matplotlib.pyplot as plt\n",
    "import requests\n",
    "from pprint import pprint\n",
    "pd.options.display.float_format = '{0:,.2f}'.format\n",
    "\n",
    "national_agency_base = \"https://api.usa.gov/crime/fbi/sapi/api/participation/national?api_key={myapi_key}\"\n",
    "violent_state_base = \"https://api.usa.gov/crime/fbi/sapi/api/data/nibrs/violent-crime/offense/states/\"\n",
    "api_key_url = \"/count?api_key=\"\n",
    "myapi_key = \"FaiahkB1PpyTF7e8qEp6JZ3TnOmokQ2sW2OTU099\"\n",
    "states = [\"AL\",\"AK\",\"AZ\",\"AR\",\"CA\",\"CO\",\"CT\",\"DE\", \"DC\",\"FL\",\"GA\",\"HI\",\"ID\",\"IL\",\"IN\",\"IA\",\"KS\",\"KY\",\"LA\",\"ME\",\"MD\",\"MA\",\"MI\",\"MN\",\"MS\",\"MO\",\"MT\",\"NE\",\"NV\",\"NH\",\"NJ\",\"NM\",\"NY\",\"NC\",\"ND\",\"OH\",\"OK\",\"OR\",\"PA\",\"PR\",\"RI\",\"SC\",\"SD\",\"TN\",\"TX\",\"UT\",\"VT\",\"VA\",\"VI\",\"WA\",\"WV\",\"WI\",\"WY\"]\n",
    "\n",
    "state_list = []\n",
    "year_list = []\n",
    "offense_name_list = []\n",
    "offense_count_list = []\n",
    "\n",
    "for state in states:\n",
    "    violent_state_url = violent_state_base + state + api_key_url + myapi_key \n",
    "    response = requests.get(violent_state_url).json()\n",
    "\n",
    "    if int(response['pagination']['count'])!=0:\n",
    "        for i in range(len(response['results'])):\n",
    "            #print()\n",
    "            if response['results'][i]['data_year'] in range(1999,2017): \n",
    "                state_list.append(state)\n",
    "                year_list.append(response['results'][i]['data_year'])\n",
    "                offense_name_list.append(response['results'][i]['offense_name'])\n",
    "                offense_count_list.append(response['results'][i]['offense_count'])\n",
    "        #print(state)\n",
    "        #pprint(response)\n",
    "\n",
    "\n"
   ]
  },
  {
   "cell_type": "code",
   "execution_count": 5,
   "metadata": {},
   "outputs": [],
   "source": [
    "FBI_data = pd.DataFrame({'State': state_list,\n",
    "                         'Year': year_list,\n",
    "                         'Offense': offense_name_list,\n",
    "                         'Offense Count': offense_count_list\n",
    "                        })"
   ]
  },
  {
   "cell_type": "code",
   "execution_count": 6,
   "metadata": {},
   "outputs": [
    {
     "data": {
      "text/html": [
       "<div>\n",
       "<style scoped>\n",
       "    .dataframe tbody tr th:only-of-type {\n",
       "        vertical-align: middle;\n",
       "    }\n",
       "\n",
       "    .dataframe tbody tr th {\n",
       "        vertical-align: top;\n",
       "    }\n",
       "\n",
       "    .dataframe thead th {\n",
       "        text-align: right;\n",
       "    }\n",
       "</style>\n",
       "<table border=\"1\" class=\"dataframe\">\n",
       "  <thead>\n",
       "    <tr style=\"text-align: right;\">\n",
       "      <th></th>\n",
       "      <th></th>\n",
       "      <th>Offense Count</th>\n",
       "    </tr>\n",
       "    <tr>\n",
       "      <th>State</th>\n",
       "      <th>Year</th>\n",
       "      <th></th>\n",
       "    </tr>\n",
       "  </thead>\n",
       "  <tbody>\n",
       "    <tr>\n",
       "      <th rowspan=\"5\" valign=\"top\">AL</th>\n",
       "      <th>2006</th>\n",
       "      <td>170</td>\n",
       "    </tr>\n",
       "    <tr>\n",
       "      <th>2007</th>\n",
       "      <td>187</td>\n",
       "    </tr>\n",
       "    <tr>\n",
       "      <th>2008</th>\n",
       "      <td>145</td>\n",
       "    </tr>\n",
       "    <tr>\n",
       "      <th>2009</th>\n",
       "      <td>121</td>\n",
       "    </tr>\n",
       "    <tr>\n",
       "      <th>2010</th>\n",
       "      <td>105</td>\n",
       "    </tr>\n",
       "  </tbody>\n",
       "</table>\n",
       "</div>"
      ],
      "text/plain": [
       "            Offense Count\n",
       "State Year               \n",
       "AL    2006            170\n",
       "      2007            187\n",
       "      2008            145\n",
       "      2009            121\n",
       "      2010            105"
      ]
     },
     "execution_count": 6,
     "metadata": {},
     "output_type": "execute_result"
    }
   ],
   "source": [
    "index = FBI_data.groupby([\"State\", \"Year\"])\n",
    "offcount = FBI_data.groupby(\"Year\")[\"Offense Count\"].sum()\n",
    "FBI_df = pd.DataFrame(index[\"Offense Count\"].sum())\n",
    "FBI_df.head()\n",
    "\n",
    "\n"
   ]
  },
  {
   "cell_type": "code",
   "execution_count": 11,
   "metadata": {},
   "outputs": [
    {
     "data": {
      "image/png": "[encoded data removed]",
      "text/plain": [
       "<Figure size 1008x1008 with 1 Axes>"
      ]
     },
     "metadata": {},
     "output_type": "display_data"
    }
   ],
   "source": [
    "# Build the plots for each city \n",
    "first_graph = FBI_df.plot.bar(rot=0, subplots=True)\n",
    "#second_graph = pd.FBI_df(y, columns= [Year])\n",
    "\n",
    "#ax = df.plot(x=\"X\", y=\"A\", kind=\"bar\")\n",
    "#df.plot(x=\"X\", y=\"B\", kind=\"bar\", ax=ax, color=\"C2\")\n",
    "#df.plot(x=\"X\", y=\"C\", kind=\"bar\", ax=ax, color=\"C3\")\n",
    "\n",
    "#plt.show()\n",
    "\n",
    "# Incorporate the other graph properties\n",
    "plt.xlabel(\"US States\")\n",
    "plt.ylabel(\"Instances of Violent Crime\")\n",
    "plt.title(\"Instances of Violent Crime in the United States\")\n",
    "#plt.xticks(np.arange(0, 41, 5))\n",
    "#plt.yticks(np.arange(20, 41, 5))\n",
    "#plt.grid(b=None, which='major', axis='both')\n",
    "\n",
    "plt.gcf().set_size_inches(14, 14)\n",
    "#plt.tight_layout()\n",
    "# Save Figure\n",
    "#plt.savefig('Instances of Violent Crime in the USA.png', bbox_inches=\"tight\")\n",
    "\n",
    "# Show Figure\n",
    "plt.show()"
   ]
  },
  {
   "cell_type": "code",
   "execution_count": null,
   "metadata": {},
   "outputs": [],
   "source": [
    "\n",
    "'''\n",
    "\n",
    "#for state in states:\n",
    "#    violent_state_url = violent_state_base + state + api_key_url + myapi_key \n",
    "#    print(violent_state_url)\n",
    "#    response = requests.get(violent_state_url).json()\n",
    "#    pprint(response)\n",
    "\n",
    "#print()\n",
    "\n",
    "#+ \"&format=json\"\n",
    "#NATIONAL CRIME DATA AGENCY API LINK: https://api.usa.gov/crime/fbi/sapi/api/participation/national?api_key=FaiahkB1PpyTF7e8qEp6JZ3TnOmokQ2sW2OTU099\n",
    "#TEXAS CRIME DATA AGENCY LINK: https://api.usa.gov/crime/fbi/sapi/api/participation/states/tx/?api_key=FaiahkB1PpyTF7e8qEp6JZ3TnOmokQ2sW2OTU099\n",
    "#TEXAS CRIME FBI DATA LINK: https://api.usa.gov/crime/fbi/sapi/api/data/nibrs/violent-crime/offense/states/tx/count?api_key=FaiahkB1PpyTF7e8qEp6JZ3TnOmokQ2sW2OTU099\n",
    "#agency_state_base = \"https://api.usa.gov/crime/fbi/sapi/api/participation/states/\""
   ]
  }
 ],
 "metadata": {
  "kernelspec": {
   "display_name": "Python 3",
   "language": "python",
   "name": "python3"
  },
  "language_info": {
   "codemirror_mode": {
    "name": "ipython",
    "version": 3
   },
   "file_extension": ".py",
   "mimetype": "text/x-python",
   "name": "python",
   "nbconvert_exporter": "python",
   "pygments_lexer": "ipython3",
   "version": "3.6.5"
  }
 },
 "nbformat": 4,
 "nbformat_minor": 2
}
